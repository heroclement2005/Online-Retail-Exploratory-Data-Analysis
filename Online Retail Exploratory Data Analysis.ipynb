{
 "cells": [
  {
   "cell_type": "markdown",
   "metadata": {},
   "source": [
    "# Portfolio Project: Online Retail Exploratory Data Analysis with Python"
   ]
  },
  {
   "cell_type": "markdown",
   "metadata": {},
   "source": [
    "## Overview\n",
    "\n",
    "In this project, I will step into the shoes of an entry-level data analyst at an online retail company, helping interpret real-world data to help make a key business decision."
   ]
  },
  {
   "cell_type": "markdown",
   "metadata": {},
   "source": [
    "## Case Study\n",
    "In this project, I will be working with transactional data from an online retail store. The dataset contains information about customer purchases, including product details, quantities, prices, and timestamps. Your task is to explore and analyze this dataset to gain insights into the store's sales trends, customer behavior, and popular products. \n",
    "\n",
    "By conducting exploratory data analysis, I will identify patterns, outliers, and correlations in the data, allowing you to make data-driven decisions and recommendations to optimize the store's operations and improve customer satisfaction. Through visualizations and statistical analysis, you will uncover key trends, such as the busiest sales months, best-selling products, and the store's most valuable customers. Ultimately, this project aims to provide actionable insights that can drive strategic business decisions and enhance the store's overall performance in the competitive online retail market.\n",
    "\n",
    "## Prerequisites\n",
    "\n",
    "Before starting this project, I should have some basic knowledge of Python programming and Pandas. In addition, I may want to use the following packages in your Python environment:\n",
    "\n",
    "- pandas\n",
    "- numpy\n",
    "- seaborn\n",
    "- matplotlib\n",
    "\n",
    "These packages should already be installed in Coursera's Jupyter Notebook environment, however if I'd like to install additional packages that are not included in this environment or are working off platform you can install additional packages using `!pip install packagename` within a notebook cell such as:\n",
    "\n",
    "- `!pip install pandas`\n",
    "- `!pip install matplotlib`"
   ]
  },
  {
   "cell_type": "markdown",
   "metadata": {},
   "source": [
    "## Project Objectives\n",
    "1. Describe data to answer key questions to uncover insights\n",
    "2. Gain valuable insights that will help improve online retail performance\n",
    "3. Provide analytic insights and data-driven recommendations"
   ]
  },
  {
   "cell_type": "markdown",
   "metadata": {},
   "source": [
    "## Dataset\n",
    "\n",
    "The dataset I will be working with is the \"Online Retail\" dataset. It contains transactional data of an online retail store from 2010 to 2011. The dataset is available as a .xlsx file named `Online Retail.xlsx`. This data file is already included in the Coursera Jupyter Notebook environment, however if you are working off-platform it can also be downloaded [here](https://archive.ics.uci.edu/ml/machine-learning-databases/00352/Online%20Retail.xlsx).\n",
    "\n",
    "The dataset contains the following columns:\n",
    "\n",
    "- InvoiceNo: Invoice number of the transaction\n",
    "- StockCode: Unique code of the product\n",
    "- Description: Description of the product\n",
    "- Quantity: Quantity of the product in the transaction\n",
    "- InvoiceDate: Date and time of the transaction\n",
    "- UnitPrice: Unit price of the product\n",
    "- CustomerID: Unique identifier of the customer\n",
    "- Country: Country where the transaction occurred"
   ]
  },
  {
   "cell_type": "markdown",
   "metadata": {},
   "source": [
    "## Tasks\n",
    "\n",
    "I may explore this dataset in any way you would like - however if I'd like some help getting started, here are a few ideas:\n",
    "\n",
    "1. Load the dataset into a Pandas DataFrame and display the first few rows to get an overview of the data.\n",
    "2. Perform data cleaning by handling missing values, if any, and removing any redundant or unnecessary columns.\n",
    "3. Explore the basic statistics of the dataset, including measures of central tendency and dispersion.\n",
    "4. Perform data visualization to gain insights into the dataset. Generate appropriate plots, such as histograms, scatter plots, or bar plots, to visualize different aspects of the data.\n",
    "5. Analyze the sales trends over time. Identify the busiest months and days of the week in terms of sales.\n",
    "6. Explore the top-selling products and countries based on the quantity sold.\n",
    "7. Identify any outliers or anomalies in the dataset and discuss their potential impact on the analysis.\n",
    "8. Draw conclusions and summarize your findings from the exploratory data analysis."
   ]
  },
  {
   "cell_type": "markdown",
   "metadata": {},
   "source": [
    "## Task 1: Load the Data"
   ]
  },
  {
   "cell_type": "code",
   "execution_count": 1,
   "metadata": {},
   "outputs": [],
   "source": [
    "import numpy as np\n",
    "import pandas as pd\n",
    "import matplotlib.pyplot as plt\n",
    "import sklearn\n",
    "import seaborn as sns"
   ]
  },
  {
   "cell_type": "code",
   "execution_count": 2,
   "metadata": {},
   "outputs": [
    {
     "name": "stdout",
     "output_type": "stream",
     "text": [
      "Requirement already satisfied: pandas in /opt/conda/lib/python3.7/site-packages (1.0.3)\n",
      "Requirement already satisfied: pytz>=2017.2 in /opt/conda/lib/python3.7/site-packages (from pandas) (2020.1)\n",
      "Requirement already satisfied: numpy>=1.13.3 in /opt/conda/lib/python3.7/site-packages (from pandas) (1.18.4)\n",
      "Requirement already satisfied: python-dateutil>=2.6.1 in /opt/conda/lib/python3.7/site-packages (from pandas) (2.8.1)\n",
      "Requirement already satisfied: six>=1.5 in /opt/conda/lib/python3.7/site-packages (from python-dateutil>=2.6.1->pandas) (1.14.0)\n",
      "\u001b[33mWARNING: You are using pip version 21.3.1; however, version 23.2.1 is available.\n",
      "You should consider upgrading via the '/opt/conda/bin/python3 -m pip install --upgrade pip' command.\u001b[0m\n",
      "Requirement already satisfied: matplotlib in /opt/conda/lib/python3.7/site-packages (3.2.1)\n",
      "Requirement already satisfied: kiwisolver>=1.0.1 in /opt/conda/lib/python3.7/site-packages (from matplotlib) (1.2.0)\n",
      "Requirement already satisfied: cycler>=0.10 in /opt/conda/lib/python3.7/site-packages (from matplotlib) (0.10.0)\n",
      "Requirement already satisfied: numpy>=1.11 in /opt/conda/lib/python3.7/site-packages (from matplotlib) (1.18.4)\n",
      "Requirement already satisfied: python-dateutil>=2.1 in /opt/conda/lib/python3.7/site-packages (from matplotlib) (2.8.1)\n",
      "Requirement already satisfied: pyparsing!=2.0.4,!=2.1.2,!=2.1.6,>=2.0.1 in /opt/conda/lib/python3.7/site-packages (from matplotlib) (2.4.7)\n",
      "Requirement already satisfied: six in /opt/conda/lib/python3.7/site-packages (from cycler>=0.10->matplotlib) (1.14.0)\n",
      "\u001b[33mWARNING: You are using pip version 21.3.1; however, version 23.2.1 is available.\n",
      "You should consider upgrading via the '/opt/conda/bin/python3 -m pip install --upgrade pip' command.\u001b[0m\n",
      "Collecting openpyxl\n",
      "  Downloading openpyxl-3.1.2-py2.py3-none-any.whl (249 kB)\n",
      "     |████████████████████████████████| 249 kB 41.5 MB/s            \n",
      "\u001b[?25hCollecting et-xmlfile\n",
      "  Downloading et_xmlfile-1.1.0-py3-none-any.whl (4.7 kB)\n",
      "Installing collected packages: et-xmlfile, openpyxl\n",
      "Successfully installed et-xmlfile-1.1.0 openpyxl-3.1.2\n",
      "\u001b[33mWARNING: You are using pip version 21.3.1; however, version 23.2.1 is available.\n",
      "You should consider upgrading via the '/opt/conda/bin/python3 -m pip install --upgrade pip' command.\u001b[0m\n"
     ]
    }
   ],
   "source": [
    "!pip install pandas\n",
    "!pip install matplotlib\n",
    "!pip install openpyxl"
   ]
  },
  {
   "cell_type": "code",
   "execution_count": 3,
   "metadata": {},
   "outputs": [],
   "source": [
    "# Import data\n",
    "df = pd.read_excel(\"Online Retail.xlsx\")"
   ]
  },
  {
   "cell_type": "code",
   "execution_count": 4,
   "metadata": {},
   "outputs": [
    {
     "data": {
      "text/html": [
       "<div>\n",
       "<style scoped>\n",
       "    .dataframe tbody tr th:only-of-type {\n",
       "        vertical-align: middle;\n",
       "    }\n",
       "\n",
       "    .dataframe tbody tr th {\n",
       "        vertical-align: top;\n",
       "    }\n",
       "\n",
       "    .dataframe thead th {\n",
       "        text-align: right;\n",
       "    }\n",
       "</style>\n",
       "<table border=\"1\" class=\"dataframe\">\n",
       "  <thead>\n",
       "    <tr style=\"text-align: right;\">\n",
       "      <th></th>\n",
       "      <th>InvoiceNo</th>\n",
       "      <th>StockCode</th>\n",
       "      <th>Description</th>\n",
       "      <th>Quantity</th>\n",
       "      <th>InvoiceDate</th>\n",
       "      <th>Invoice_date</th>\n",
       "      <th>Invoice_time</th>\n",
       "      <th>UnitPrice</th>\n",
       "      <th>CustomerID</th>\n",
       "      <th>Country</th>\n",
       "    </tr>\n",
       "  </thead>\n",
       "  <tbody>\n",
       "    <tr>\n",
       "      <th>0</th>\n",
       "      <td>536365</td>\n",
       "      <td>85123A</td>\n",
       "      <td>WHITE HANGING HEART T-LIGHT HOLDER</td>\n",
       "      <td>6</td>\n",
       "      <td>2010-12-01 08:26:00</td>\n",
       "      <td>2010-12-01</td>\n",
       "      <td>08:26:00</td>\n",
       "      <td>2.55</td>\n",
       "      <td>17850.0</td>\n",
       "      <td>United Kingdom</td>\n",
       "    </tr>\n",
       "    <tr>\n",
       "      <th>1</th>\n",
       "      <td>536365</td>\n",
       "      <td>71053</td>\n",
       "      <td>WHITE METAL LANTERN</td>\n",
       "      <td>6</td>\n",
       "      <td>2010-12-01 08:26:00</td>\n",
       "      <td>2010-12-01</td>\n",
       "      <td>08:26:00</td>\n",
       "      <td>3.39</td>\n",
       "      <td>17850.0</td>\n",
       "      <td>United Kingdom</td>\n",
       "    </tr>\n",
       "    <tr>\n",
       "      <th>2</th>\n",
       "      <td>536365</td>\n",
       "      <td>84406B</td>\n",
       "      <td>CREAM CUPID HEARTS COAT HANGER</td>\n",
       "      <td>8</td>\n",
       "      <td>2010-12-01 08:26:00</td>\n",
       "      <td>2010-12-01</td>\n",
       "      <td>08:26:00</td>\n",
       "      <td>2.75</td>\n",
       "      <td>17850.0</td>\n",
       "      <td>United Kingdom</td>\n",
       "    </tr>\n",
       "    <tr>\n",
       "      <th>3</th>\n",
       "      <td>536365</td>\n",
       "      <td>84029G</td>\n",
       "      <td>KNITTED UNION FLAG HOT WATER BOTTLE</td>\n",
       "      <td>6</td>\n",
       "      <td>2010-12-01 08:26:00</td>\n",
       "      <td>2010-12-01</td>\n",
       "      <td>08:26:00</td>\n",
       "      <td>3.39</td>\n",
       "      <td>17850.0</td>\n",
       "      <td>United Kingdom</td>\n",
       "    </tr>\n",
       "    <tr>\n",
       "      <th>4</th>\n",
       "      <td>536365</td>\n",
       "      <td>84029E</td>\n",
       "      <td>RED WOOLLY HOTTIE WHITE HEART.</td>\n",
       "      <td>6</td>\n",
       "      <td>2010-12-01 08:26:00</td>\n",
       "      <td>2010-12-01</td>\n",
       "      <td>08:26:00</td>\n",
       "      <td>3.39</td>\n",
       "      <td>17850.0</td>\n",
       "      <td>United Kingdom</td>\n",
       "    </tr>\n",
       "  </tbody>\n",
       "</table>\n",
       "</div>"
      ],
      "text/plain": [
       "  InvoiceNo StockCode                          Description  Quantity  \\\n",
       "0    536365    85123A   WHITE HANGING HEART T-LIGHT HOLDER         6   \n",
       "1    536365     71053                  WHITE METAL LANTERN         6   \n",
       "2    536365    84406B       CREAM CUPID HEARTS COAT HANGER         8   \n",
       "3    536365    84029G  KNITTED UNION FLAG HOT WATER BOTTLE         6   \n",
       "4    536365    84029E       RED WOOLLY HOTTIE WHITE HEART.         6   \n",
       "\n",
       "          InvoiceDate Invoice_date Invoice_time  UnitPrice  CustomerID  \\\n",
       "0 2010-12-01 08:26:00   2010-12-01     08:26:00       2.55     17850.0   \n",
       "1 2010-12-01 08:26:00   2010-12-01     08:26:00       3.39     17850.0   \n",
       "2 2010-12-01 08:26:00   2010-12-01     08:26:00       2.75     17850.0   \n",
       "3 2010-12-01 08:26:00   2010-12-01     08:26:00       3.39     17850.0   \n",
       "4 2010-12-01 08:26:00   2010-12-01     08:26:00       3.39     17850.0   \n",
       "\n",
       "          Country  \n",
       "0  United Kingdom  \n",
       "1  United Kingdom  \n",
       "2  United Kingdom  \n",
       "3  United Kingdom  \n",
       "4  United Kingdom  "
      ]
     },
     "execution_count": 4,
     "metadata": {},
     "output_type": "execute_result"
    }
   ],
   "source": [
    "df.head()"
   ]
  },
  {
   "cell_type": "code",
   "execution_count": 5,
   "metadata": {},
   "outputs": [
    {
     "name": "stdout",
     "output_type": "stream",
     "text": [
      "<class 'pandas.core.frame.DataFrame'>\n",
      "RangeIndex: 541909 entries, 0 to 541908\n",
      "Data columns (total 10 columns):\n",
      " #   Column        Non-Null Count   Dtype         \n",
      "---  ------        --------------   -----         \n",
      " 0   InvoiceNo     541909 non-null  object        \n",
      " 1   StockCode     541909 non-null  object        \n",
      " 2   Description   540455 non-null  object        \n",
      " 3   Quantity      541909 non-null  int64         \n",
      " 4   InvoiceDate   541909 non-null  datetime64[ns]\n",
      " 5   Invoice_date  541909 non-null  datetime64[ns]\n",
      " 6   Invoice_time  541909 non-null  object        \n",
      " 7   UnitPrice     541909 non-null  float64       \n",
      " 8   CustomerID    406829 non-null  float64       \n",
      " 9   Country       541909 non-null  object        \n",
      "dtypes: datetime64[ns](2), float64(2), int64(1), object(5)\n",
      "memory usage: 41.3+ MB\n"
     ]
    }
   ],
   "source": [
    "df.info()"
   ]
  },
  {
   "cell_type": "code",
   "execution_count": 6,
   "metadata": {},
   "outputs": [
    {
     "data": {
      "text/plain": [
       "InvoiceNo            0\n",
       "StockCode            0\n",
       "Description       1454\n",
       "Quantity             0\n",
       "InvoiceDate          0\n",
       "Invoice_date         0\n",
       "Invoice_time         0\n",
       "UnitPrice            0\n",
       "CustomerID      135080\n",
       "Country              0\n",
       "dtype: int64"
      ]
     },
     "execution_count": 6,
     "metadata": {},
     "output_type": "execute_result"
    }
   ],
   "source": [
    "df.isna().sum()"
   ]
  },
  {
   "cell_type": "code",
   "execution_count": 7,
   "metadata": {},
   "outputs": [
    {
     "data": {
      "text/html": [
       "<div>\n",
       "<style scoped>\n",
       "    .dataframe tbody tr th:only-of-type {\n",
       "        vertical-align: middle;\n",
       "    }\n",
       "\n",
       "    .dataframe tbody tr th {\n",
       "        vertical-align: top;\n",
       "    }\n",
       "\n",
       "    .dataframe thead th {\n",
       "        text-align: right;\n",
       "    }\n",
       "</style>\n",
       "<table border=\"1\" class=\"dataframe\">\n",
       "  <thead>\n",
       "    <tr style=\"text-align: right;\">\n",
       "      <th></th>\n",
       "      <th>Quantity</th>\n",
       "      <th>UnitPrice</th>\n",
       "      <th>CustomerID</th>\n",
       "    </tr>\n",
       "  </thead>\n",
       "  <tbody>\n",
       "    <tr>\n",
       "      <th>count</th>\n",
       "      <td>541909.000000</td>\n",
       "      <td>541909.000000</td>\n",
       "      <td>406829.000000</td>\n",
       "    </tr>\n",
       "    <tr>\n",
       "      <th>mean</th>\n",
       "      <td>9.552250</td>\n",
       "      <td>4.611114</td>\n",
       "      <td>15287.690570</td>\n",
       "    </tr>\n",
       "    <tr>\n",
       "      <th>std</th>\n",
       "      <td>218.081158</td>\n",
       "      <td>96.759853</td>\n",
       "      <td>1713.600303</td>\n",
       "    </tr>\n",
       "    <tr>\n",
       "      <th>min</th>\n",
       "      <td>-80995.000000</td>\n",
       "      <td>-11062.060000</td>\n",
       "      <td>12346.000000</td>\n",
       "    </tr>\n",
       "    <tr>\n",
       "      <th>25%</th>\n",
       "      <td>1.000000</td>\n",
       "      <td>1.250000</td>\n",
       "      <td>13953.000000</td>\n",
       "    </tr>\n",
       "    <tr>\n",
       "      <th>50%</th>\n",
       "      <td>3.000000</td>\n",
       "      <td>2.080000</td>\n",
       "      <td>15152.000000</td>\n",
       "    </tr>\n",
       "    <tr>\n",
       "      <th>75%</th>\n",
       "      <td>10.000000</td>\n",
       "      <td>4.130000</td>\n",
       "      <td>16791.000000</td>\n",
       "    </tr>\n",
       "    <tr>\n",
       "      <th>max</th>\n",
       "      <td>80995.000000</td>\n",
       "      <td>38970.000000</td>\n",
       "      <td>18287.000000</td>\n",
       "    </tr>\n",
       "  </tbody>\n",
       "</table>\n",
       "</div>"
      ],
      "text/plain": [
       "            Quantity      UnitPrice     CustomerID\n",
       "count  541909.000000  541909.000000  406829.000000\n",
       "mean        9.552250       4.611114   15287.690570\n",
       "std       218.081158      96.759853    1713.600303\n",
       "min    -80995.000000  -11062.060000   12346.000000\n",
       "25%         1.000000       1.250000   13953.000000\n",
       "50%         3.000000       2.080000   15152.000000\n",
       "75%        10.000000       4.130000   16791.000000\n",
       "max     80995.000000   38970.000000   18287.000000"
      ]
     },
     "execution_count": 7,
     "metadata": {},
     "output_type": "execute_result"
    }
   ],
   "source": [
    "df.describe()"
   ]
  },
  {
   "cell_type": "code",
   "execution_count": 11,
   "metadata": {},
   "outputs": [],
   "source": [
    "# Adding column named \"Customer_spending\"\n",
    "\n",
    "# Create a new column \"Customer_spending\" in the DataFrame\n",
    "df['Customer_spending'] = df.apply(lambda row: row['Quantity'] * row['UnitPrice'], axis=1)\n",
    "\n",
    "# Save the DataFrame to a new Excel file\n",
    "df.to_excel('my_excel_data_with_Sustomer_spending.xlsx', index=False)"
   ]
  },
  {
   "cell_type": "code",
   "execution_count": 12,
   "metadata": {},
   "outputs": [
    {
     "data": {
      "text/html": [
       "<div>\n",
       "<style scoped>\n",
       "    .dataframe tbody tr th:only-of-type {\n",
       "        vertical-align: middle;\n",
       "    }\n",
       "\n",
       "    .dataframe tbody tr th {\n",
       "        vertical-align: top;\n",
       "    }\n",
       "\n",
       "    .dataframe thead th {\n",
       "        text-align: right;\n",
       "    }\n",
       "</style>\n",
       "<table border=\"1\" class=\"dataframe\">\n",
       "  <thead>\n",
       "    <tr style=\"text-align: right;\">\n",
       "      <th></th>\n",
       "      <th>InvoiceNo</th>\n",
       "      <th>StockCode</th>\n",
       "      <th>Description</th>\n",
       "      <th>Quantity</th>\n",
       "      <th>InvoiceDate</th>\n",
       "      <th>Invoice_date</th>\n",
       "      <th>Invoice_time</th>\n",
       "      <th>UnitPrice</th>\n",
       "      <th>CustomerID</th>\n",
       "      <th>Country</th>\n",
       "      <th>Customer_spending</th>\n",
       "    </tr>\n",
       "  </thead>\n",
       "  <tbody>\n",
       "    <tr>\n",
       "      <th>0</th>\n",
       "      <td>536365</td>\n",
       "      <td>85123A</td>\n",
       "      <td>WHITE HANGING HEART T-LIGHT HOLDER</td>\n",
       "      <td>6</td>\n",
       "      <td>2010-12-01 08:26:00</td>\n",
       "      <td>2010-12-01</td>\n",
       "      <td>08:26:00</td>\n",
       "      <td>2.55</td>\n",
       "      <td>17850.0</td>\n",
       "      <td>United Kingdom</td>\n",
       "      <td>15.30</td>\n",
       "    </tr>\n",
       "    <tr>\n",
       "      <th>1</th>\n",
       "      <td>536365</td>\n",
       "      <td>71053</td>\n",
       "      <td>WHITE METAL LANTERN</td>\n",
       "      <td>6</td>\n",
       "      <td>2010-12-01 08:26:00</td>\n",
       "      <td>2010-12-01</td>\n",
       "      <td>08:26:00</td>\n",
       "      <td>3.39</td>\n",
       "      <td>17850.0</td>\n",
       "      <td>United Kingdom</td>\n",
       "      <td>20.34</td>\n",
       "    </tr>\n",
       "    <tr>\n",
       "      <th>2</th>\n",
       "      <td>536365</td>\n",
       "      <td>84406B</td>\n",
       "      <td>CREAM CUPID HEARTS COAT HANGER</td>\n",
       "      <td>8</td>\n",
       "      <td>2010-12-01 08:26:00</td>\n",
       "      <td>2010-12-01</td>\n",
       "      <td>08:26:00</td>\n",
       "      <td>2.75</td>\n",
       "      <td>17850.0</td>\n",
       "      <td>United Kingdom</td>\n",
       "      <td>22.00</td>\n",
       "    </tr>\n",
       "    <tr>\n",
       "      <th>3</th>\n",
       "      <td>536365</td>\n",
       "      <td>84029G</td>\n",
       "      <td>KNITTED UNION FLAG HOT WATER BOTTLE</td>\n",
       "      <td>6</td>\n",
       "      <td>2010-12-01 08:26:00</td>\n",
       "      <td>2010-12-01</td>\n",
       "      <td>08:26:00</td>\n",
       "      <td>3.39</td>\n",
       "      <td>17850.0</td>\n",
       "      <td>United Kingdom</td>\n",
       "      <td>20.34</td>\n",
       "    </tr>\n",
       "    <tr>\n",
       "      <th>4</th>\n",
       "      <td>536365</td>\n",
       "      <td>84029E</td>\n",
       "      <td>RED WOOLLY HOTTIE WHITE HEART.</td>\n",
       "      <td>6</td>\n",
       "      <td>2010-12-01 08:26:00</td>\n",
       "      <td>2010-12-01</td>\n",
       "      <td>08:26:00</td>\n",
       "      <td>3.39</td>\n",
       "      <td>17850.0</td>\n",
       "      <td>United Kingdom</td>\n",
       "      <td>20.34</td>\n",
       "    </tr>\n",
       "  </tbody>\n",
       "</table>\n",
       "</div>"
      ],
      "text/plain": [
       "  InvoiceNo StockCode                          Description  Quantity  \\\n",
       "0    536365    85123A   WHITE HANGING HEART T-LIGHT HOLDER         6   \n",
       "1    536365     71053                  WHITE METAL LANTERN         6   \n",
       "2    536365    84406B       CREAM CUPID HEARTS COAT HANGER         8   \n",
       "3    536365    84029G  KNITTED UNION FLAG HOT WATER BOTTLE         6   \n",
       "4    536365    84029E       RED WOOLLY HOTTIE WHITE HEART.         6   \n",
       "\n",
       "          InvoiceDate Invoice_date Invoice_time  UnitPrice  CustomerID  \\\n",
       "0 2010-12-01 08:26:00   2010-12-01     08:26:00       2.55     17850.0   \n",
       "1 2010-12-01 08:26:00   2010-12-01     08:26:00       3.39     17850.0   \n",
       "2 2010-12-01 08:26:00   2010-12-01     08:26:00       2.75     17850.0   \n",
       "3 2010-12-01 08:26:00   2010-12-01     08:26:00       3.39     17850.0   \n",
       "4 2010-12-01 08:26:00   2010-12-01     08:26:00       3.39     17850.0   \n",
       "\n",
       "          Country  Customer_spending  \n",
       "0  United Kingdom              15.30  \n",
       "1  United Kingdom              20.34  \n",
       "2  United Kingdom              22.00  \n",
       "3  United Kingdom              20.34  \n",
       "4  United Kingdom              20.34  "
      ]
     },
     "execution_count": 12,
     "metadata": {},
     "output_type": "execute_result"
    }
   ],
   "source": [
    "df.head()"
   ]
  },
  {
   "cell_type": "code",
   "execution_count": 13,
   "metadata": {},
   "outputs": [
    {
     "data": {
      "text/plain": [
       "InvoiceNo                 0\n",
       "StockCode                 0\n",
       "Description            1454\n",
       "Quantity                  0\n",
       "InvoiceDate               0\n",
       "Invoice_date              0\n",
       "Invoice_time              0\n",
       "UnitPrice                 0\n",
       "CustomerID           135080\n",
       "Country                   0\n",
       "Customer_spending         0\n",
       "dtype: int64"
      ]
     },
     "execution_count": 13,
     "metadata": {},
     "output_type": "execute_result"
    }
   ],
   "source": [
    "df.isna().sum()"
   ]
  },
  {
   "cell_type": "code",
   "execution_count": 14,
   "metadata": {},
   "outputs": [
    {
     "data": {
      "text/plain": [
       "Index(['InvoiceNo', 'StockCode', 'Description', 'Quantity', 'InvoiceDate',\n",
       "       'Invoice_date', 'Invoice_time', 'UnitPrice', 'CustomerID', 'Country',\n",
       "       'Customer_spending'],\n",
       "      dtype='object')"
      ]
     },
     "execution_count": 14,
     "metadata": {},
     "output_type": "execute_result"
    }
   ],
   "source": [
    "df.columns"
   ]
  },
  {
   "cell_type": "code",
   "execution_count": 15,
   "metadata": {},
   "outputs": [],
   "source": [
    "#Drop rows contain 0 of column \"UnitPrice\"\n",
    "df_v2=df[df['UnitPrice'] !=0]"
   ]
  },
  {
   "cell_type": "code",
   "execution_count": 16,
   "metadata": {},
   "outputs": [
    {
     "data": {
      "text/html": [
       "<div>\n",
       "<style scoped>\n",
       "    .dataframe tbody tr th:only-of-type {\n",
       "        vertical-align: middle;\n",
       "    }\n",
       "\n",
       "    .dataframe tbody tr th {\n",
       "        vertical-align: top;\n",
       "    }\n",
       "\n",
       "    .dataframe thead th {\n",
       "        text-align: right;\n",
       "    }\n",
       "</style>\n",
       "<table border=\"1\" class=\"dataframe\">\n",
       "  <thead>\n",
       "    <tr style=\"text-align: right;\">\n",
       "      <th></th>\n",
       "      <th>InvoiceNo</th>\n",
       "      <th>StockCode</th>\n",
       "      <th>Description</th>\n",
       "      <th>Quantity</th>\n",
       "      <th>InvoiceDate</th>\n",
       "      <th>Invoice_date</th>\n",
       "      <th>Invoice_time</th>\n",
       "      <th>UnitPrice</th>\n",
       "      <th>CustomerID</th>\n",
       "      <th>Country</th>\n",
       "      <th>Customer_spending</th>\n",
       "    </tr>\n",
       "  </thead>\n",
       "  <tbody>\n",
       "    <tr>\n",
       "      <th>0</th>\n",
       "      <td>536365</td>\n",
       "      <td>85123A</td>\n",
       "      <td>WHITE HANGING HEART T-LIGHT HOLDER</td>\n",
       "      <td>6</td>\n",
       "      <td>2010-12-01 08:26:00</td>\n",
       "      <td>2010-12-01</td>\n",
       "      <td>08:26:00</td>\n",
       "      <td>2.55</td>\n",
       "      <td>17850.0</td>\n",
       "      <td>United Kingdom</td>\n",
       "      <td>15.30</td>\n",
       "    </tr>\n",
       "    <tr>\n",
       "      <th>1</th>\n",
       "      <td>536365</td>\n",
       "      <td>71053</td>\n",
       "      <td>WHITE METAL LANTERN</td>\n",
       "      <td>6</td>\n",
       "      <td>2010-12-01 08:26:00</td>\n",
       "      <td>2010-12-01</td>\n",
       "      <td>08:26:00</td>\n",
       "      <td>3.39</td>\n",
       "      <td>17850.0</td>\n",
       "      <td>United Kingdom</td>\n",
       "      <td>20.34</td>\n",
       "    </tr>\n",
       "    <tr>\n",
       "      <th>2</th>\n",
       "      <td>536365</td>\n",
       "      <td>84406B</td>\n",
       "      <td>CREAM CUPID HEARTS COAT HANGER</td>\n",
       "      <td>8</td>\n",
       "      <td>2010-12-01 08:26:00</td>\n",
       "      <td>2010-12-01</td>\n",
       "      <td>08:26:00</td>\n",
       "      <td>2.75</td>\n",
       "      <td>17850.0</td>\n",
       "      <td>United Kingdom</td>\n",
       "      <td>22.00</td>\n",
       "    </tr>\n",
       "    <tr>\n",
       "      <th>3</th>\n",
       "      <td>536365</td>\n",
       "      <td>84029G</td>\n",
       "      <td>KNITTED UNION FLAG HOT WATER BOTTLE</td>\n",
       "      <td>6</td>\n",
       "      <td>2010-12-01 08:26:00</td>\n",
       "      <td>2010-12-01</td>\n",
       "      <td>08:26:00</td>\n",
       "      <td>3.39</td>\n",
       "      <td>17850.0</td>\n",
       "      <td>United Kingdom</td>\n",
       "      <td>20.34</td>\n",
       "    </tr>\n",
       "    <tr>\n",
       "      <th>4</th>\n",
       "      <td>536365</td>\n",
       "      <td>84029E</td>\n",
       "      <td>RED WOOLLY HOTTIE WHITE HEART.</td>\n",
       "      <td>6</td>\n",
       "      <td>2010-12-01 08:26:00</td>\n",
       "      <td>2010-12-01</td>\n",
       "      <td>08:26:00</td>\n",
       "      <td>3.39</td>\n",
       "      <td>17850.0</td>\n",
       "      <td>United Kingdom</td>\n",
       "      <td>20.34</td>\n",
       "    </tr>\n",
       "  </tbody>\n",
       "</table>\n",
       "</div>"
      ],
      "text/plain": [
       "  InvoiceNo StockCode                          Description  Quantity  \\\n",
       "0    536365    85123A   WHITE HANGING HEART T-LIGHT HOLDER         6   \n",
       "1    536365     71053                  WHITE METAL LANTERN         6   \n",
       "2    536365    84406B       CREAM CUPID HEARTS COAT HANGER         8   \n",
       "3    536365    84029G  KNITTED UNION FLAG HOT WATER BOTTLE         6   \n",
       "4    536365    84029E       RED WOOLLY HOTTIE WHITE HEART.         6   \n",
       "\n",
       "          InvoiceDate Invoice_date Invoice_time  UnitPrice  CustomerID  \\\n",
       "0 2010-12-01 08:26:00   2010-12-01     08:26:00       2.55     17850.0   \n",
       "1 2010-12-01 08:26:00   2010-12-01     08:26:00       3.39     17850.0   \n",
       "2 2010-12-01 08:26:00   2010-12-01     08:26:00       2.75     17850.0   \n",
       "3 2010-12-01 08:26:00   2010-12-01     08:26:00       3.39     17850.0   \n",
       "4 2010-12-01 08:26:00   2010-12-01     08:26:00       3.39     17850.0   \n",
       "\n",
       "          Country  Customer_spending  \n",
       "0  United Kingdom              15.30  \n",
       "1  United Kingdom              20.34  \n",
       "2  United Kingdom              22.00  \n",
       "3  United Kingdom              20.34  \n",
       "4  United Kingdom              20.34  "
      ]
     },
     "execution_count": 16,
     "metadata": {},
     "output_type": "execute_result"
    }
   ],
   "source": [
    "df_v2.head()"
   ]
  },
  {
   "cell_type": "code",
   "execution_count": 17,
   "metadata": {},
   "outputs": [
    {
     "data": {
      "text/html": [
       "<div>\n",
       "<style scoped>\n",
       "    .dataframe tbody tr th:only-of-type {\n",
       "        vertical-align: middle;\n",
       "    }\n",
       "\n",
       "    .dataframe tbody tr th {\n",
       "        vertical-align: top;\n",
       "    }\n",
       "\n",
       "    .dataframe thead th {\n",
       "        text-align: right;\n",
       "    }\n",
       "</style>\n",
       "<table border=\"1\" class=\"dataframe\">\n",
       "  <thead>\n",
       "    <tr style=\"text-align: right;\">\n",
       "      <th></th>\n",
       "      <th>Quantity</th>\n",
       "      <th>UnitPrice</th>\n",
       "      <th>CustomerID</th>\n",
       "      <th>Customer_spending</th>\n",
       "    </tr>\n",
       "  </thead>\n",
       "  <tbody>\n",
       "    <tr>\n",
       "      <th>count</th>\n",
       "      <td>539394.000000</td>\n",
       "      <td>539394.000000</td>\n",
       "      <td>406789.000000</td>\n",
       "      <td>539394.000000</td>\n",
       "    </tr>\n",
       "    <tr>\n",
       "      <th>mean</th>\n",
       "      <td>9.845871</td>\n",
       "      <td>4.632614</td>\n",
       "      <td>15287.795830</td>\n",
       "      <td>18.071665</td>\n",
       "    </tr>\n",
       "    <tr>\n",
       "      <th>std</th>\n",
       "      <td>215.412253</td>\n",
       "      <td>96.984656</td>\n",
       "      <td>1713.573064</td>\n",
       "      <td>379.690931</td>\n",
       "    </tr>\n",
       "    <tr>\n",
       "      <th>min</th>\n",
       "      <td>-80995.000000</td>\n",
       "      <td>-11062.060000</td>\n",
       "      <td>12346.000000</td>\n",
       "      <td>-168469.600000</td>\n",
       "    </tr>\n",
       "    <tr>\n",
       "      <th>25%</th>\n",
       "      <td>1.000000</td>\n",
       "      <td>1.250000</td>\n",
       "      <td>13954.000000</td>\n",
       "      <td>3.750000</td>\n",
       "    </tr>\n",
       "    <tr>\n",
       "      <th>50%</th>\n",
       "      <td>3.000000</td>\n",
       "      <td>2.080000</td>\n",
       "      <td>15152.000000</td>\n",
       "      <td>9.840000</td>\n",
       "    </tr>\n",
       "    <tr>\n",
       "      <th>75%</th>\n",
       "      <td>10.000000</td>\n",
       "      <td>4.130000</td>\n",
       "      <td>16791.000000</td>\n",
       "      <td>17.400000</td>\n",
       "    </tr>\n",
       "    <tr>\n",
       "      <th>max</th>\n",
       "      <td>80995.000000</td>\n",
       "      <td>38970.000000</td>\n",
       "      <td>18287.000000</td>\n",
       "      <td>168469.600000</td>\n",
       "    </tr>\n",
       "  </tbody>\n",
       "</table>\n",
       "</div>"
      ],
      "text/plain": [
       "            Quantity      UnitPrice     CustomerID  Customer_spending\n",
       "count  539394.000000  539394.000000  406789.000000      539394.000000\n",
       "mean        9.845871       4.632614   15287.795830          18.071665\n",
       "std       215.412253      96.984656    1713.573064         379.690931\n",
       "min    -80995.000000  -11062.060000   12346.000000     -168469.600000\n",
       "25%         1.000000       1.250000   13954.000000           3.750000\n",
       "50%         3.000000       2.080000   15152.000000           9.840000\n",
       "75%        10.000000       4.130000   16791.000000          17.400000\n",
       "max     80995.000000   38970.000000   18287.000000      168469.600000"
      ]
     },
     "execution_count": 17,
     "metadata": {},
     "output_type": "execute_result"
    }
   ],
   "source": [
    "df_v2.describe()"
   ]
  },
  {
   "cell_type": "code",
   "execution_count": 18,
   "metadata": {},
   "outputs": [
    {
     "data": {
      "text/plain": [
       "Country\n",
       "Australia               109.137954\n",
       "Austria                  25.322494\n",
       "Bahrain                  28.863158\n",
       "Belgium                  19.773301\n",
       "Brazil                   35.737500\n",
       "Canada                   24.280662\n",
       "Channel Islands          26.499063\n",
       "Cyprus                   20.813971\n",
       "Czech Republic           23.590667\n",
       "Denmark                  48.247147\n",
       "EIRE                     32.138284\n",
       "European Community       21.176230\n",
       "Finland                  32.124806\n",
       "France                   23.071985\n",
       "Germany                  23.353862\n",
       "Greece                   32.263836\n",
       "Hong Kong                35.128611\n",
       "Iceland                  23.681319\n",
       "Israel                   26.625657\n",
       "Italy                    21.034259\n",
       "Japan                    98.716816\n",
       "Lebanon                  37.641778\n",
       "Lithuania                47.458857\n",
       "Malta                    19.728110\n",
       "Netherlands             120.262586\n",
       "Norway                   32.408719\n",
       "Poland                   21.152903\n",
       "Portugal                 19.333127\n",
       "RSA                      17.584386\n",
       "Saudi Arabia             13.117000\n",
       "Singapore                39.827031\n",
       "Spain                    21.632930\n",
       "Sweden                   79.211926\n",
       "Switzerland              28.178586\n",
       "USA                       5.948179\n",
       "United Arab Emirates     27.974706\n",
       "United Kingdom           16.608767\n",
       "Unspecified              10.649753\n",
       "Name: Customer_spending, dtype: float64"
      ]
     },
     "execution_count": 18,
     "metadata": {},
     "output_type": "execute_result"
    }
   ],
   "source": [
    "# Group the data by country and calculate the average customer spending\n",
    "\n",
    "# Group the data by country\n",
    "grouped_data=df_v2.groupby(\"Country\")\n",
    "\n",
    "# Calculate the average customer spending for each country\n",
    "avg_spending_per_country=grouped_data[\"Customer_spending\"].mean()\n",
    "avg_spending_per_country"
   ]
  },
  {
   "cell_type": "code",
   "execution_count": 19,
   "metadata": {},
   "outputs": [
    {
     "data": {
      "text/plain": [
       "18.071665487571554"
      ]
     },
     "execution_count": 19,
     "metadata": {},
     "output_type": "execute_result"
    }
   ],
   "source": [
    "average_spending=df_v2['Customer_spending'].mean()\n",
    "average_spending"
   ]
  },
  {
   "cell_type": "code",
   "execution_count": 20,
   "metadata": {},
   "outputs": [
    {
     "data": {
      "image/png": "[encoded data removed]",
      "text/plain": [
       "<Figure size 864x432 with 1 Axes>"
      ]
     },
     "metadata": {
      "needs_background": "light"
     },
     "output_type": "display_data"
    }
   ],
   "source": [
    "# Create a bar chart of country-wise average spending\n",
    "plt.figure(figsize=(12,6))\n",
    "avg_spending_per_country.plot(kind='bar', color='skyblue')\n",
    "plt.axhline(average_spending, color='red', linestyle='--', label='Overall average')\n",
    "plt.title('Average Customer Spending by Country')\n",
    "plt.xlabel('Country')\n",
    "plt.ylabel('Average Customer Spending')\n",
    "plt.xticks(rotation=90) # Rotate x-axis labels for readability\n",
    "plt.tight_layout()\n",
    "plt.show();"
   ]
  },
  {
   "cell_type": "code",
   "execution_count": 21,
   "metadata": {},
   "outputs": [
    {
     "data": {
      "text/plain": [
       "Country\n",
       "Netherlands    120.262586\n",
       "Australia      109.137954\n",
       "Japan           98.716816\n",
       "Sweden          79.211926\n",
       "Denmark         48.247147\n",
       "Lithuania       47.458857\n",
       "Singapore       39.827031\n",
       "Lebanon         37.641778\n",
       "Brazil          35.737500\n",
       "Hong Kong       35.128611\n",
       "Name: Customer_spending, dtype: float64"
      ]
     },
     "execution_count": 21,
     "metadata": {},
     "output_type": "execute_result"
    }
   ],
   "source": [
    "#Finding top 10 spending countries\n",
    "top_10_spending_countries=avg_spending_per_country.sort_values(ascending=False).head(10)\n",
    "top_10_spending_countries"
   ]
  },
  {
   "cell_type": "markdown",
   "metadata": {},
   "source": [
    "## Finding outliner"
   ]
  },
  {
   "cell_type": "code",
   "execution_count": 22,
   "metadata": {},
   "outputs": [
    {
     "data": {
      "text/plain": [
       "Country\n",
       "Australia      109.137954\n",
       "Japan           98.716816\n",
       "Netherlands    120.262586\n",
       "Sweden          79.211926\n",
       "Name: Customer_spending, dtype: float64"
      ]
     },
     "execution_count": 22,
     "metadata": {},
     "output_type": "execute_result"
    }
   ],
   "source": [
    "#Calculation of outliners using Z-score\n",
    "Q1 = avg_spending_per_country.quantile(0.25)\n",
    "Q3 = avg_spending_per_country.quantile(0.75)\n",
    "\n",
    "# Calculate IQR\n",
    "IQR = Q3 - Q1\n",
    "\n",
    "# Define lower and upper bounds\n",
    "lower_bound = Q1 - 1.5 * IQR\n",
    "upper_bound = Q3 + 1.5 * IQR\n",
    "\n",
    "# Identify outliers\n",
    "outliers = avg_spending_per_country[(avg_spending_per_country < lower_bound) | (avg_spending_per_country > upper_bound)]\n",
    "outliers"
   ]
  },
  {
   "cell_type": "code",
   "execution_count": 23,
   "metadata": {},
   "outputs": [
    {
     "data": {
      "image/png": "[encoded data removed]",
      "text/plain": [
       "<Figure size 576x432 with 1 Axes>"
      ]
     },
     "metadata": {
      "needs_background": "light"
     },
     "output_type": "display_data"
    }
   ],
   "source": [
    "from matplotlib.cbook import boxplot_stats\n",
    "# Create a box plot of the average spending per country\n",
    "plt.figure(figsize=(8, 6))\n",
    "plt.boxplot(avg_spending_per_country)\n",
    "plt.title('Box Plot of Average Customer Spending by Country')\n",
    "plt.ylabel('Average Customer Spending')\n",
    "plt.xticks([1], ['Countries'])\n",
    "plt.show();\n",
    "\n",
    "# Extract outlier data points\n",
    "outliers=boxplot_stats(avg_spending_per_country)"
   ]
  },
  {
   "cell_type": "code",
   "execution_count": 24,
   "metadata": {},
   "outputs": [],
   "source": [
    "# Group the data by month and day of the week\n",
    "\n",
    "# Ensure the data is in the correct format\n",
    "df_v2['Invoice_date'] = pd.to_datetime(df_v2['Invoice_date'])\n",
    "\n",
    "df_v2['Month'] = df_v2['Invoice_date'].dt.month\n",
    "df_v2['DayOfWeek'] = df_v2['Invoice_date'].dt.dayofweek"
   ]
  },
  {
   "cell_type": "code",
   "execution_count": 25,
   "metadata": {},
   "outputs": [],
   "source": [
    "# Calculate the total sales for each month and day of the week\n",
    "monthly_sales = df_v2.groupby('Month')['Customer_spending'].sum()\n",
    "day_of_week_sales = df_v2.groupby('DayOfWeek')['Customer_spending'].sum()"
   ]
  },
  {
   "cell_type": "code",
   "execution_count": 26,
   "metadata": {},
   "outputs": [
    {
     "data": {
      "text/plain": [
       "array([2, 3, 4, 6, 0, 1])"
      ]
     },
     "execution_count": 26,
     "metadata": {},
     "output_type": "execute_result"
    }
   ],
   "source": [
    "unique_days = df_v2['DayOfWeek'].unique()\n",
    "unique_days"
   ]
  },
  {
   "cell_type": "code",
   "execution_count": 27,
   "metadata": {},
   "outputs": [
    {
     "name": "stdout",
     "output_type": "stream",
     "text": [
      "<class 'pandas.core.frame.DataFrame'>\n",
      "Int64Index: 539394 entries, 0 to 541908\n",
      "Data columns (total 13 columns):\n",
      " #   Column             Non-Null Count   Dtype         \n",
      "---  ------             --------------   -----         \n",
      " 0   InvoiceNo          539394 non-null  object        \n",
      " 1   StockCode          539394 non-null  object        \n",
      " 2   Description        539394 non-null  object        \n",
      " 3   Quantity           539394 non-null  int64         \n",
      " 4   InvoiceDate        539394 non-null  datetime64[ns]\n",
      " 5   Invoice_date       539394 non-null  datetime64[ns]\n",
      " 6   Invoice_time       539394 non-null  object        \n",
      " 7   UnitPrice          539394 non-null  float64       \n",
      " 8   CustomerID         406789 non-null  float64       \n",
      " 9   Country            539394 non-null  object        \n",
      " 10  Customer_spending  539394 non-null  float64       \n",
      " 11  Month              539394 non-null  int64         \n",
      " 12  DayOfWeek          539394 non-null  int64         \n",
      "dtypes: datetime64[ns](2), float64(3), int64(3), object(5)\n",
      "memory usage: 57.6+ MB\n"
     ]
    }
   ],
   "source": [
    "df_v2.info()"
   ]
  },
  {
   "cell_type": "code",
   "execution_count": 28,
   "metadata": {},
   "outputs": [
    {
     "data": {
      "image/png": "[encoded data removed]",
      "text/plain": [
       "<Figure size 720x360 with 1 Axes>"
      ]
     },
     "metadata": {
      "needs_background": "light"
     },
     "output_type": "display_data"
    }
   ],
   "source": [
    "# Creating a line plot to show monthly sales trends\n",
    "plt.figure(figsize=(10, 5))\n",
    "sns.lineplot(x=monthly_sales.index, y=monthly_sales.values, marker='o')\n",
    "plt.title('Monthly Sales Trends')\n",
    "plt.xlabel('Month')\n",
    "plt.ylabel('Total Sales')\n",
    "plt.xticks(monthly_sales.index)\n",
    "plt.show()"
   ]
  },
  {
   "cell_type": "markdown",
   "metadata": {},
   "source": [
    "### So, the monthly sales trends showing that sales starts growing from July and continue upto November."
   ]
  },
  {
   "cell_type": "markdown",
   "metadata": {},
   "source": [
    "### Busiest Months:\n",
    "\n",
    "To identify the busiest months, I need to sort the monthly sales data:"
   ]
  },
  {
   "cell_type": "code",
   "execution_count": 29,
   "metadata": {},
   "outputs": [
    {
     "name": "stdout",
     "output_type": "stream",
     "text": [
      "Busiest Months:\n",
      "Month\n",
      "11    1461756.250\n",
      "12    1182625.030\n",
      "10    1070704.670\n",
      "9     1019687.622\n",
      "5      723333.510\n",
      "6      691123.120\n",
      "3      683267.080\n",
      "8      682680.510\n",
      "7      681300.111\n",
      "1      560000.260\n",
      "2      498062.650\n",
      "4      493207.121\n",
      "Name: Customer_spending, dtype: float64\n"
     ]
    }
   ],
   "source": [
    "busiest_months=monthly_sales.sort_values(ascending=False)\n",
    "print(\"Busiest Months:\")\n",
    "print(busiest_months)"
   ]
  },
  {
   "cell_type": "markdown",
   "metadata": {},
   "source": [
    "### So, the top busiest months are September, October, November and December. But from December down-trend starts."
   ]
  },
  {
   "cell_type": "markdown",
   "metadata": {},
   "source": [
    "### Sales Trends by Day of the Week:\n",
    "\n",
    "I will create a bar plot to visualize sales trends by day of the week:\n"
   ]
  },
  {
   "cell_type": "code",
   "execution_count": 31,
   "metadata": {},
   "outputs": [
    {
     "data": {
      "image/png": "[encoded data removed]",
      "text/plain": [
       "<Figure size 576x360 with 1 Axes>"
      ]
     },
     "metadata": {
      "needs_background": "light"
     },
     "output_type": "display_data"
    }
   ],
   "source": [
    "# Creating a bar plot to show day of week sales trends\n",
    "\n",
    "# Converting day_of_week_sales to a pandas Series\n",
    "day_of_week_sales = pd.Series(day_of_week_sales)\n",
    "\n",
    "plt.figure(figsize=(8, 5))\n",
    "sns.barplot(x=day_of_week_sales.index, y=day_of_week_sales.values)\n",
    "plt.title('Sales Trends by Day of the Week')\n",
    "plt.xlabel('Day of the Week')\n",
    "plt.ylabel('Total Sales')\n",
    "plt.xticks(day_of_week_sales.index, ['Mon', 'Tue', 'Wed', 'Thu', 'Fri', 'Sun'])\n",
    "plt.show();"
   ]
  },
  {
   "cell_type": "markdown",
   "metadata": {},
   "source": [
    "### Busiest Days of the Week:\n",
    "\n",
    "To identify the busiest days of the week, I will sort the day of the week sales data:"
   ]
  },
  {
   "cell_type": "code",
   "execution_count": 32,
   "metadata": {},
   "outputs": [
    {
     "data": {
      "text/plain": [
       "DayOfWeek\n",
       "3    2112519.000\n",
       "1    1966182.791\n",
       "2    1734147.010\n",
       "0    1588609.431\n",
       "4    1540610.811\n",
       "6     805678.891\n",
       "Name: Customer_spending, dtype: float64"
      ]
     },
     "execution_count": 32,
     "metadata": {},
     "output_type": "execute_result"
    }
   ],
   "source": [
    "busiest_day=day_of_week_sales.sort_values(ascending=False)\n",
    "\"Busiest Days of the Week:\"\n",
    "busiest_day"
   ]
  },
  {
   "cell_type": "markdown",
   "metadata": {},
   "source": [
    "### So, the busiest day is Thursday"
   ]
  },
  {
   "cell_type": "markdown",
   "metadata": {},
   "source": [
    "### Explore the top-selling products and countries based on the quantity sold."
   ]
  },
  {
   "cell_type": "code",
   "execution_count": 33,
   "metadata": {},
   "outputs": [
    {
     "name": "stdout",
     "output_type": "stream",
     "text": [
      "Top-Selling Products:\n",
      "                              Description         Country  Customer_spending\n",
      "5074                       DOTCOM POSTAGE  United Kingdom          206245.48\n",
      "13904            REGENCY CAKESTAND 3 TIER  United Kingdom          134405.94\n",
      "19056  WHITE HANGING HEART T-LIGHT HOLDER  United Kingdom           93953.07\n",
      "11553                       PARTY BUNTING  United Kingdom           92501.73\n",
      "8533              JUMBO BAG RED RETROSPOT  United Kingdom           84516.44\n",
      "11394     PAPER CHAIN KIT 50'S CHRISTMAS   United Kingdom           61888.19\n",
      "1145        ASSORTED COLOUR BIRD ORNAMENT  United Kingdom           54662.15\n",
      "3671                        CHILLI LIGHTS  United Kingdom           52986.86\n",
      "11818      PICNIC BASKET WICKER 60 PIECES  United Kingdom           39619.50\n",
      "1830             BLACK RECORD COVER FRAME  United Kingdom           39387.00\n",
      "\n",
      "Top-Selling Countries:\n",
      "           Country  Customer_spending\n",
      "36  United Kingdom        8187806.364\n",
      "24     Netherlands         284661.540\n",
      "10            EIRE         263276.820\n",
      "14         Germany         221698.210\n",
      "13          France         197403.900\n",
      "0        Australia         137077.270\n",
      "33     Switzerland          56385.350\n",
      "31           Spain          54774.580\n",
      "3          Belgium          40910.960\n",
      "32          Sweden          36595.910\n"
     ]
    }
   ],
   "source": [
    "# Group the data by Description and Country, summing the Customer_spending for each combination\n",
    "product_country_sales=df_v2.groupby(['Description', 'Country'])['Customer_spending'].sum().reset_index()\n",
    "\n",
    "# Sort the DataFrame by quantity sold in descending order to find the top-selling products and countries\n",
    "top_selling_products=product_country_sales.sort_values(by='Customer_spending', ascending=False)\n",
    "top_selling_countries=product_country_sales.groupby('Country')['Customer_spending'].sum().reset_index().sort_values(by='Customer_spending', ascending=False)\n",
    "\n",
    "# Display the top-selling products and countries\n",
    "print(\"Top-Selling Products:\")\n",
    "print(top_selling_products.head(10))  # Display the top 10 products\n",
    "print(\"\\nTop-Selling Countries:\")\n",
    "print(top_selling_countries.head(10))  # Display the top 10 countries"
   ]
  },
  {
   "cell_type": "markdown",
   "metadata": {},
   "source": [
    "### So, top-selling product is DOTCOM POSTAGE and the country is UK and top selling country is UK"
   ]
  },
  {
   "cell_type": "markdown",
   "metadata": {},
   "source": [
    "## Exploratory Data Analysis Summary\n",
    "\n",
    "#### Dataset Overview:\n",
    "The dataset contains Online Retail data, including following information: \n",
    "\n",
    "InvoiceNo: Invoice number of the transaction\n",
    "StockCode: Unique code of the product\n",
    "Description: Description of the product\n",
    "Quantity: Quantity of the product in the transaction\n",
    "InvoiceDate: Date and time of the transaction\n",
    "UnitPrice: Unit price of the product\n",
    "CustomerID: Unique identifier of the customer\n",
    "Country: Country where the transaction occurred\n",
    "\n",
    "The analysis focused on understanding sales trends, identifying top-selling products, determining popular countries, finding ouliners.\n",
    "\n",
    "#### Sales Trends Over Time:\n",
    "Monthly sales trends show that there is a noticeable increase in sales from July to December and from end of December it starts falling. Possibly indicating seasonal patterns or promotions.\n",
    "\n",
    "\n",
    "#### Top-Selling Products: \n",
    "Some top-selling products are DOTCOM POSTAGE, REGENCY CAKESTAND 3 TIER, WHITE HANGING HEART T-LIGHT HOLDER and PARTY BUNTING. Understanding the characteristics of these top-selling products can help in making inventory and marketing decisions.\n",
    " \n",
    "\n",
    "#### Top-Selling Countries: \n",
    "The analysis also identified the top-selling countries based on the quantity of products sold. Top-selling countries are United Kingdom, Netherlands, EIRE, Germany. Focusing marketing efforts and expanding operations in these countries may be beneficial.    \n",
    "\n",
    "#### Customer Spending: \n",
    "Customer spending was calculated using unit price and quantity, providing insights into customer behavior. This is also useful to set marketing strategy as per customer demography.\n",
    "\n",
    "\n",
    "#### Day of the Week Analysis: \n",
    "Sales trends by day of the week indicated that certain days have higher sales than others. Tuesday and Sunday were top trading days. Exploring why these variations occur, such as special promotions on specific days, can provide insights for optimizing sales strategies.\n",
    "\n",
    "#### Outliners: \n",
    "Outliners countries were Australia, Japan, Netherlands and Sweden. Further analysis and details data are required to find the reasons of outliners.   \n",
    "\n",
    "#### Recommendations: \n",
    "Consider conducting further analysis to understand the underlying factors driving sales trends and seasonal variations. Explore the characteristics of top-selling products to inform inventory management and product offerings. Focus marketing efforts on the top-selling countries to maximize revenue potential. Segment customers based on spending patterns for personalized marketing campaigns. Investigate the reasons behind variations in sales by day of the week to optimize promotions and operations.\n",
    "  \n",
    "\n",
    "#### Conclusion: \n",
    "The exploratory data analysis has provided valuable insights into sales trends, top-selling products, and countries. These findings can serve as a foundation for making data-driven decisions to improve business operations and revenue.    \n"
   ]
  }
 ],
 "metadata": {
  "kernelspec": {
   "display_name": "Python 3",
   "language": "python",
   "name": "python3"
  },
  "language_info": {
   "codemirror_mode": {
    "name": "ipython",
    "version": 3
   },
   "file_extension": ".py",
   "mimetype": "text/x-python",
   "name": "python",
   "nbconvert_exporter": "python",
   "pygments_lexer": "ipython3",
   "version": "3.7.6"
  }
 },
 "nbformat": 4,
 "nbformat_minor": 4
}
